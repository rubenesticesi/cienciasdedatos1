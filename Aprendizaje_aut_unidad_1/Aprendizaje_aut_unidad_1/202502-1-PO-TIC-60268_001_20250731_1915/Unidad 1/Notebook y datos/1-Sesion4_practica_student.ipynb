{
 "cells": [
  {
   "cell_type": "markdown",
   "id": "ab00b8ac-002b-4de7-bae3-3be1ee0d153f",
   "metadata": {},
   "source": [
    "# **Universidad ICESI**\n",
    "\n",
    "*Milton Orlando Sarria*\n",
    "\n",
    "----\n",
    "\n",
    "## **Laboratorio: Análisis y Modelado del Precio de Viviendas**  \n",
    "\n",
    "En este laboratorio, exploraremos un conjunto de datos de bienes raíces para analizar los factores que influyen en el precio por unidad de área de las viviendas. A través de diferentes técnicas de análisis y modelado, los estudiantes practicarán:  \n",
    "\n",
    "- **Análisis de correlación** para identificar relaciones entre variables.  \n",
    "- **Visualización de datos** para interpretar tendencias y patrones.  \n",
    "- **Regresión lineal múltiple** para modelar la relación entre el precio de la vivienda y múltiples variables explicativas.  \n",
    "- **Regresión polinomial** para capturar relaciones no lineales.  \n",
    "- **Comparación de modelos** utilizando métricas de evaluación para determinar cuál se ajusta mejor a los datos.  \n",
    "\n",
    "Al finalizar, los estudiantes podrán interpretar los coeficientes de los modelos, evaluar su rendimiento y justificar qué enfoque es más adecuado para predecir los precios de las viviendas.\n",
    "\n",
    "---\n",
    " \n",
    "## **Descripción de las Variables:**\n",
    "\n",
    "1. **transaction date  (X1)**: Indica el momento en que se realizó la compra o venta de la propiedad. Se expresa en valores numéricos que representan el año y el mes.  \n",
    "2. **house age (X2)**: Representa la edad del inmueble en años desde su construcción hasta el momento de la transacción.  \n",
    "3. **distance to the nearest MRT station (X3)**: Mide la cercanía de la propiedad al sistema de transporte masivo más próximo, expresada en metros.  \n",
    "4. **number of convenience stores (X4)**: Cuenta cuántas tiendas de abarrotes hay en los alrededores de la propiedad.  \n",
    "5. **latitude (X5) y longitude  (X6)**: Coordenadas geográficas que indican la ubicación exacta de la propiedad en el mapa.  \n",
    "6. **house price of unit area (Y)**: Es la *variable objetivo*, que representa el valor de la propiedad por unidad de superficie, generalmente expresado en una moneda específica por metro cuadrado.  \n",
    "\n",
    "---\n",
    "\n"
   ]
  },
  {
   "cell_type": "markdown",
   "id": "ab6d754e-21c5-4032-bf69-7b20b19a3a1b",
   "metadata": {},
   "source": [
    "## **Preguntas Conceptuales para los Estudiantes:**\n",
    "\n",
    "1. **Relación Lineal Inicial:**  \n",
    "   - ¿Qué variable crees que tiene la relación más fuerte con la variable objetivo? ¿Por qué?  \n",
    "   - Si analizas la antigüedad de la casa y el precio, ¿esperas una relación positiva o negativa? Explica tu razonamiento.  \n"
   ]
  },
  {
   "cell_type": "markdown",
   "id": "72792a3f-ad29-4fe6-9f4b-8c5debed28f2",
   "metadata": {},
   "source": [
    "R\\: "
   ]
  },
  {
   "cell_type": "markdown",
   "id": "cb1c8ed0-3568-4917-aab3-3c242be7dfb4",
   "metadata": {},
   "source": [
    "\n",
    "2. **Impacto de la Ubicación:**  \n",
    "   - ¿Cómo influye la distancia a la estación de MRT en el precio de la propiedad?  \n",
    "   - Basado en la latitud y la longitud, ¿se pueden identificar zonas con precios más altos?  \n",
    "\n"
   ]
  },
  {
   "cell_type": "markdown",
   "id": "f08e10e1-3b8f-4cfd-960f-366cf93fd00d",
   "metadata": {},
   "source": [
    "R\\:"
   ]
  },
  {
   "cell_type": "markdown",
   "id": "b90aaa3d-013f-415e-91f2-8a3d72290a16",
   "metadata": {},
   "source": [
    "3. **Abarrotes:**  \n",
    "   - ¿Crees que un mayor número de tiendas de abarrotes cerca de la propiedad incrementa su valor? ¿Por qué podría ocurrir lo contrario?  \n",
    "\n"
   ]
  },
  {
   "cell_type": "markdown",
   "id": "c3798336-3695-4159-9492-a50eb5211614",
   "metadata": {},
   "source": [
    "R\\:"
   ]
  },
  {
   "cell_type": "markdown",
   "id": "b78aa44e-efb4-4c26-bdfb-c9f78f808fda",
   "metadata": {},
   "source": [
    "4. **Modelos de Regresión:**  \n",
    "   - ¿Una regresión lineal simple es suficiente para modelar la relación entre las variables independientes y el precio de la vivienda, o crees que una regresión polinomial podría mejorar el ajuste?  \n",
    "   - ¿Cómo podríamos evaluar si nuestro modelo está funcionando bien? ¿Qué métricas usarías?  \n",
    "\n"
   ]
  },
  {
   "cell_type": "markdown",
   "id": "5818d28d-84af-4200-8ed6-78dede78ec90",
   "metadata": {},
   "source": [
    "R\\:"
   ]
  },
  {
   "cell_type": "markdown",
   "id": "bda924a2-315b-4e27-a0a0-88d92edd02fa",
   "metadata": {},
   "source": [
    "5. **Interpretación de Resultados:**  \n",
    "   - Si el coeficiente de la variable **X3 (distancia al MRT)** en un modelo de regresión es negativo, ¿qué significa esto en términos económicos?  \n",
    "   - Si al agregar variables al modelo el error cuadrático medio (MSE) disminuye, ¿qué conclusión podrías sacar sobre la calidad del modelo?  \n"
   ]
  },
  {
   "cell_type": "code",
   "execution_count": null,
   "id": "fea88def-b990-470e-b59c-05c19776039a",
   "metadata": {},
   "outputs": [],
   "source": [
    "R\\:"
   ]
  },
  {
   "cell_type": "markdown",
   "id": "6150c19f-f993-48bf-a22b-cea182783cb8",
   "metadata": {},
   "source": [
    "-----\n",
    "## Parte práctica\n",
    "\n",
    "Importar librerias:\n"
   ]
  },
  {
   "cell_type": "code",
   "execution_count": 9,
   "id": "2c28e96d-2657-49bd-b001-f5eeb5376470",
   "metadata": {},
   "outputs": [],
   "source": [
    "import pandas as pd\n",
    "import numpy as np\n",
    "import matplotlib.pyplot as plt\n",
    "import seaborn as sns\n",
    "from sklearn.model_selection import train_test_split\n",
    "from sklearn import metrics\n",
    "from sklearn.linear_model import LinearRegression\n",
    "import statsmodels.api as sm\n",
    "from sklearn.preprocessing import PolynomialFeatures\n"
   ]
  },
  {
   "cell_type": "code",
   "execution_count": 5,
   "id": "c3e8f738-ff47-4a65-8b5f-c77a1024a871",
   "metadata": {},
   "outputs": [
    {
     "data": {
      "text/html": [
       "<div>\n",
       "<style scoped>\n",
       "    .dataframe tbody tr th:only-of-type {\n",
       "        vertical-align: middle;\n",
       "    }\n",
       "\n",
       "    .dataframe tbody tr th {\n",
       "        vertical-align: top;\n",
       "    }\n",
       "\n",
       "    .dataframe thead th {\n",
       "        text-align: right;\n",
       "    }\n",
       "</style>\n",
       "<table border=\"1\" class=\"dataframe\">\n",
       "  <thead>\n",
       "    <tr style=\"text-align: right;\">\n",
       "      <th></th>\n",
       "      <th>No</th>\n",
       "      <th>X1 transaction date</th>\n",
       "      <th>X2 house age</th>\n",
       "      <th>X3 distance to the nearest MRT station</th>\n",
       "      <th>X4 number of convenience stores</th>\n",
       "      <th>X5 latitude</th>\n",
       "      <th>X6 longitude</th>\n",
       "      <th>Y house price of unit area</th>\n",
       "    </tr>\n",
       "  </thead>\n",
       "  <tbody>\n",
       "    <tr>\n",
       "      <th>0</th>\n",
       "      <td>1</td>\n",
       "      <td>2012.917</td>\n",
       "      <td>32.0</td>\n",
       "      <td>84.87882</td>\n",
       "      <td>10</td>\n",
       "      <td>24.98298</td>\n",
       "      <td>121.54024</td>\n",
       "      <td>37.9</td>\n",
       "    </tr>\n",
       "    <tr>\n",
       "      <th>1</th>\n",
       "      <td>2</td>\n",
       "      <td>2012.917</td>\n",
       "      <td>19.5</td>\n",
       "      <td>306.59470</td>\n",
       "      <td>9</td>\n",
       "      <td>24.98034</td>\n",
       "      <td>121.53951</td>\n",
       "      <td>42.2</td>\n",
       "    </tr>\n",
       "    <tr>\n",
       "      <th>2</th>\n",
       "      <td>3</td>\n",
       "      <td>2013.583</td>\n",
       "      <td>13.3</td>\n",
       "      <td>561.98450</td>\n",
       "      <td>5</td>\n",
       "      <td>24.98746</td>\n",
       "      <td>121.54391</td>\n",
       "      <td>47.3</td>\n",
       "    </tr>\n",
       "  </tbody>\n",
       "</table>\n",
       "</div>"
      ],
      "text/plain": [
       "   No  X1 transaction date  X2 house age  \\\n",
       "0   1             2012.917          32.0   \n",
       "1   2             2012.917          19.5   \n",
       "2   3             2013.583          13.3   \n",
       "\n",
       "   X3 distance to the nearest MRT station  X4 number of convenience stores  \\\n",
       "0                                84.87882                               10   \n",
       "1                               306.59470                                9   \n",
       "2                               561.98450                                5   \n",
       "\n",
       "   X5 latitude  X6 longitude  Y house price of unit area  \n",
       "0     24.98298     121.54024                        37.9  \n",
       "1     24.98034     121.53951                        42.2  \n",
       "2     24.98746     121.54391                        47.3  "
      ]
     },
     "execution_count": 5,
     "metadata": {},
     "output_type": "execute_result"
    }
   ],
   "source": [
    "#cargar dataset\n",
    "df= pd.read_csv('ruta a los datos/RealEstate.csv')\n",
    "df.head(3)"
   ]
  },
  {
   "cell_type": "markdown",
   "id": "2e32ae26-98da-4606-a9f3-339e4dae7c2e",
   "metadata": {},
   "source": [
    "**Verificar número de variables, de registros, tipos de datos y matríz de correlación**"
   ]
  },
  {
   "cell_type": "code",
   "execution_count": null,
   "id": "c8363a46-7603-4a51-8cf6-c7d69d882831",
   "metadata": {},
   "outputs": [],
   "source": []
  },
  {
   "cell_type": "code",
   "execution_count": null,
   "id": "18f1a2f7-0de2-4e0c-acba-f0bf2477cde4",
   "metadata": {},
   "outputs": [],
   "source": []
  },
  {
   "cell_type": "code",
   "execution_count": null,
   "id": "a5d8a6c7-7d52-4c34-9942-864929d35e55",
   "metadata": {},
   "outputs": [],
   "source": []
  },
  {
   "cell_type": "markdown",
   "id": "83b2fff4-efbf-4cd0-8643-d8c705a29cae",
   "metadata": {},
   "source": [
    "**Realiza un pairplot con seaborn y verifica las relaciones que puedan existir entre la variable objetivo y las predictoras**"
   ]
  },
  {
   "cell_type": "code",
   "execution_count": null,
   "id": "0a3699ef-1d3a-4feb-8b4f-04902a3125aa",
   "metadata": {},
   "outputs": [],
   "source": []
  },
  {
   "cell_type": "markdown",
   "id": "ca59a6c2-b3fb-42a8-b98b-6895e9c56f5b",
   "metadata": {},
   "source": [
    "**Definir las variables de tu dataset:** **X,y**"
   ]
  },
  {
   "cell_type": "code",
   "execution_count": null,
   "id": "d9cbc5d8-c753-467d-9d7a-eb66c7e58483",
   "metadata": {},
   "outputs": [],
   "source": []
  },
  {
   "cell_type": "markdown",
   "id": "116a13e1-b391-4715-be42-3096730f4b8e",
   "metadata": {},
   "source": [
    "**Separar tu conjunto de entrenamiento y tu conjunto de prueba**: usa 20% para pruebas"
   ]
  },
  {
   "cell_type": "code",
   "execution_count": null,
   "id": "bca84387-a906-483a-a98d-66fbb72d6bf6",
   "metadata": {},
   "outputs": [],
   "source": [
    "#train_test_split\n",
    "\n"
   ]
  },
  {
   "cell_type": "markdown",
   "id": "0623b6df-19d1-4e8e-8f2a-4c9259c5e618",
   "metadata": {},
   "source": [
    "📈 **Entrenar y evaluar un modelo de regresión lineal múltiple**"
   ]
  },
  {
   "cell_type": "code",
   "execution_count": null,
   "id": "41292e6d-2f74-4dd7-ac13-f3261a855de9",
   "metadata": {},
   "outputs": [],
   "source": []
  },
  {
   "cell_type": "code",
   "execution_count": null,
   "id": "0d3bbe0a-bb3f-4d1c-bdb0-8ecb7ccdd193",
   "metadata": {},
   "outputs": [],
   "source": []
  },
  {
   "cell_type": "code",
   "execution_count": null,
   "id": "ff7ea8b3-9ed2-47bd-8818-7a811d69628f",
   "metadata": {},
   "outputs": [],
   "source": [
    "## utiliza las siguientes metricas para reportar el desempeño de tu modelo\n",
    "MAE_simple = metrics.mean_absolute_error(y_test,y_pred)\n",
    "MSE_simple = metrics.mean_squared_error(y_test,y_pred)\n",
    "RMSE_simple = np.sqrt(MSE_simple)"
   ]
  },
  {
   "cell_type": "code",
   "execution_count": null,
   "id": "c73eaee7-cabc-44fd-9437-49b9152d6991",
   "metadata": {},
   "outputs": [],
   "source": []
  },
  {
   "cell_type": "code",
   "execution_count": null,
   "id": "ab6ec48f-cf81-41c5-8d68-6be0efaa9799",
   "metadata": {},
   "outputs": [],
   "source": []
  },
  {
   "cell_type": "markdown",
   "id": "b22fe045-718c-463e-b5da-6f3ec8bd78f6",
   "metadata": {},
   "source": [
    "📈 **Entrenar y evaluar un modelo de regresión polinomial**\n",
    "\n",
    "Consulta en la documentación de sklearn el uso de la función `PolynomialFeatures()`. \n",
    "\n",
    "A continuación te damos un ejemplo de su uso. \n",
    "\n",
    "Evalua su utilidad para el problema abordado."
   ]
  },
  {
   "cell_type": "code",
   "execution_count": 13,
   "id": "06a7f194-f458-4a23-9268-776119fe7988",
   "metadata": {},
   "outputs": [
    {
     "name": "stdout",
     "output_type": "stream",
     "text": [
      "[[ 0.43872683 -0.78392328]\n",
      " [-0.24687591  1.15726566]\n",
      " [-0.75214988  0.82930796]\n",
      " [ 1.01970975 -0.62875358]\n",
      " [ 0.68631034 -1.50986983]\n",
      " [-0.61684177  0.42381623]\n",
      " [ 0.81062924 -1.55590462]\n",
      " [ 1.4037995   1.32327306]\n",
      " [-0.25176242  0.94161589]\n",
      " [-0.10324255 -0.41493442]]\n",
      "[ 0.43872683 -0.78392328  0.19248123 -0.34392817  0.61453571] (10, 5)\n"
     ]
    }
   ],
   "source": [
    "x= np.random.randn(10,2)\n",
    "polynomial_converter=PolynomialFeatures(degree=2, include_bias=False)\n",
    "polynomial_converter.fit(x)\n",
    "\n",
    "poly_features=polynomial_converter.transform(x)\n",
    "print(x)\n",
    "print(poly_features[0],poly_features.shape)\n"
   ]
  },
  {
   "cell_type": "markdown",
   "id": "20e04ff0-bf1a-44b1-bcb0-8ea8541b86c9",
   "metadata": {},
   "source": [
    "Ajustar tu conjunto de entrenamiento y tu conjunto de prueba para que contengan carácteristicas polinomiales. Entrenar y evaluar tu modelo empleando las mismas metrícas empleadas anteriormente."
   ]
  },
  {
   "cell_type": "code",
   "execution_count": null,
   "id": "5099f028-3b4a-4d74-8fd1-533a0b61e50a",
   "metadata": {},
   "outputs": [],
   "source": []
  },
  {
   "cell_type": "code",
   "execution_count": null,
   "id": "06977c9a-068b-4b58-b5f0-cf57aba9933e",
   "metadata": {},
   "outputs": [],
   "source": [
    "\n",
    "\n",
    "## utiliza las siguientes metricas para reportar el desempeño de tu modelo\n",
    "MAE_Poly = metrics.mean_absolute_error(y_test,y_poly_pred)\n",
    "MSE_Poly = metrics.mean_squared_error(y_test,y_poly_pred)\n",
    "RMSE_Poly = np.sqrt(MSE_simple)"
   ]
  },
  {
   "cell_type": "code",
   "execution_count": null,
   "id": "af7a1d31-62d2-49d2-a497-a62643f23a35",
   "metadata": {},
   "outputs": [],
   "source": []
  },
  {
   "cell_type": "markdown",
   "id": "a418b1a1-bcf2-41f3-bc92-51a93e8f9548",
   "metadata": {},
   "source": [
    "**Evalua diferentes grados del polinomio, y compara la evolución del MSE para diferentes grados**\n",
    "\n",
    "Debes comparar el MSE para el conjunto de entrenamiento y para el conjunto de prueba. Que pasa cuando aumentas mucho el grado del polinomio?"
   ]
  },
  {
   "cell_type": "code",
   "execution_count": null,
   "id": "39cd1c3e-e3f8-47ad-a2d3-bb8019a12bab",
   "metadata": {},
   "outputs": [],
   "source": []
  },
  {
   "cell_type": "code",
   "execution_count": null,
   "id": "a418db12-31ba-42f1-9fcc-88b17f08165a",
   "metadata": {},
   "outputs": [],
   "source": []
  },
  {
   "cell_type": "markdown",
   "id": "d60646c1-9761-4358-8ed7-b09e1d98211f",
   "metadata": {},
   "source": [
    "**Prepara un reporte usando una tabla comparativa para todas las metrícas empleadas y los modelos a comparar**"
   ]
  },
  {
   "cell_type": "code",
   "execution_count": 20,
   "id": "d11892ea-7204-41f6-bd26-1832a0644f3d",
   "metadata": {},
   "outputs": [
    {
     "data": {
      "text/html": [
       "<div>\n",
       "<style scoped>\n",
       "    .dataframe tbody tr th:only-of-type {\n",
       "        vertical-align: middle;\n",
       "    }\n",
       "\n",
       "    .dataframe tbody tr th {\n",
       "        vertical-align: top;\n",
       "    }\n",
       "\n",
       "    .dataframe thead th {\n",
       "        text-align: right;\n",
       "    }\n",
       "</style>\n",
       "<table border=\"1\" class=\"dataframe\">\n",
       "  <thead>\n",
       "    <tr style=\"text-align: right;\">\n",
       "      <th></th>\n",
       "      <th>Poly Metrics</th>\n",
       "      <th>Simple Metrics</th>\n",
       "    </tr>\n",
       "  </thead>\n",
       "  <tbody>\n",
       "    <tr>\n",
       "      <th>MAE</th>\n",
       "      <td>valor</td>\n",
       "      <td>valor</td>\n",
       "    </tr>\n",
       "    <tr>\n",
       "      <th>MSE</th>\n",
       "      <td>valor</td>\n",
       "      <td>valor</td>\n",
       "    </tr>\n",
       "    <tr>\n",
       "      <th>RMSE</th>\n",
       "      <td>valor</td>\n",
       "      <td>valor</td>\n",
       "    </tr>\n",
       "  </tbody>\n",
       "</table>\n",
       "</div>"
      ],
      "text/plain": [
       "     Poly Metrics Simple Metrics\n",
       "MAE         valor          valor\n",
       "MSE         valor          valor\n",
       "RMSE        valor          valor"
      ]
     },
     "execution_count": 20,
     "metadata": {},
     "output_type": "execute_result"
    }
   ],
   "source": [
    "results=pd.DataFrame(\n",
    "    {'Poly Metrics': [MAE_Poly, MSE_Poly, RMSE_Poly], \n",
    "     'Simple Metrics':[MAE_simple, MSE_simple,RMSE_simple]}, \n",
    "    index=['MAE', 'MSE', 'RMSE'])\n",
    "\n",
    "results"
   ]
  },
  {
   "cell_type": "markdown",
   "id": "5b9ec062-cc45-43ee-bc12-cbf45baebc9c",
   "metadata": {},
   "source": [
    "**Conclusiones**\n",
    "\n",
    "Que aprendiste hoy??"
   ]
  },
  {
   "cell_type": "markdown",
   "id": "d5eef2a4-626c-4143-a650-862657cd35a1",
   "metadata": {},
   "source": [
    "R\\:\n",
    "\n",
    "\n"
   ]
  }
 ],
 "metadata": {
  "kernelspec": {
   "display_name": "Python 3 (ipykernel)",
   "language": "python",
   "name": "python3"
  },
  "language_info": {
   "codemirror_mode": {
    "name": "ipython",
    "version": 3
   },
   "file_extension": ".py",
   "mimetype": "text/x-python",
   "name": "python",
   "nbconvert_exporter": "python",
   "pygments_lexer": "ipython3",
   "version": "3.10.14"
  }
 },
 "nbformat": 4,
 "nbformat_minor": 5
}
