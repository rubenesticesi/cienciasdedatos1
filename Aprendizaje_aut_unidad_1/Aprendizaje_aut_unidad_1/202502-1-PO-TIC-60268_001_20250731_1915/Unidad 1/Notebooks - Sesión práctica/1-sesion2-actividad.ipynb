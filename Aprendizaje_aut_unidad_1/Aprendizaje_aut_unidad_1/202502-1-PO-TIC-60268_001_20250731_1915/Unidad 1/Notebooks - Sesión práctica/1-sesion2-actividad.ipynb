{
 "cells": [
  {
   "cell_type": "markdown",
   "id": "7f7b9345-d54b-45cc-adee-69a9e5c2e2ac",
   "metadata": {},
   "source": [
    "# **Universidad ICESI**\n",
    "\n",
    "*Milton Orlando Sarria Paja*"
   ]
  },
  {
   "cell_type": "markdown",
   "id": "1f0339e7-aa8e-4687-9efd-bcc254c30ead",
   "metadata": {},
   "source": [
    "## **Considera los siguientes casos**\n",
    "\n",
    "📖 **Caso 1: Horas de Estudio y Calificaciones**\n",
    "\n",
    "📂 **Datos:** Registro de estudiantes con sus horas de estudio y calificaciones: score_updated.csv\n",
    "\n",
    "El conjunto de datos contiene dos columnas: el número de horas que un estudiante estudió y las calificaciones que obtuvo. Podemos aplicar una regresión lineal simple para predecir las calificaciones del estudiante dado su número de horas de estudio.\n",
    "\n",
    "\n",
    "📖 **Caso 2: Temperatura y Ventas de Helado**\n",
    "\n",
    "📂 **Datos:** Temperatura diaria y ventas de helado en una heladería: Ice_cream_selling_data.csv\n",
    "\n",
    "Ice Cream Selling dataset: El conjunto de datos muestra la relación entre la temperatura y las ventas de helados. Sirve como un ejemplo práctico para comprender e implementar la regresión polinómica, una técnica poderosa para modelar relaciones no lineales en los datos.\n",
    "\n",
    "📖 **Caso 3: Niveles de Colesterol**\n",
    "\n",
    "📂 **Datos:** dataset de enfermedades cardíacas: dataset_2190_cholesterol.csv\n",
    "\n",
    "El dataset de enfermedades cardíacas contiene información médica recopilada en cuatro centros hospitalarios. Incluye 76 atributos, aunque solo 14 son comúnmente utilizados, como colesterol (chol), presión arterial (trestbps), frecuencia cardíaca (thalach), y tipo de dolor torácico (cp). La variable objetivo (num) indica la presencia de enfermedad cardíaca en distintos niveles. Este conjunto de datos se ha empleado ampliamente en estudios de aprendizaje automático para el diagnóstico de enfermedades cardíacas."
   ]
  },
  {
   "cell_type": "markdown",
   "id": "5ced2315-5478-4d1f-8dad-84c7d5478cfe",
   "metadata": {},
   "source": [
    "---\n",
    "\n",
    "# **Actividad: Análisis y Modelado de Datos en Diferentes Contextos**\n",
    "\n",
    "### **Objetivo General**\n",
    "Los estudiantes explorarán distintos conjuntos de datos para verificar supuestos, ajustar modelos de regresión y evaluar su desempeño mediante métricas estadísticas.\n",
    "\n",
    "---\n",
    "\n",
    "## **Caso 1: Horas de Estudio y Calificaciones (Regresión Lineal Simple)**\n",
    "\n",
    "📂 **Dataset:** `score_updated.csv`  \n",
    "📊 **Relación esperada:** Lineal  \n",
    "\n",
    "### **Parte 1: Verificación de Supuestos**\n",
    "1. Cargar los datos y visualizar la relación entre horas de estudio y calificaciones mediante un **gráfico de dispersión**.  \n",
    "2. Evaluar la distribución de las variables usando histogramas y boxplots.  \n",
    "---\n"
   ]
  },
  {
   "cell_type": "code",
   "execution_count": null,
   "id": "33b3cced-f95a-4082-87a4-45ea64bb315b",
   "metadata": {},
   "outputs": [],
   "source": []
  },
  {
   "cell_type": "code",
   "execution_count": null,
   "id": "9d2c1e4f-8511-44c6-87c9-81be488f91ad",
   "metadata": {},
   "outputs": [],
   "source": []
  },
  {
   "cell_type": "markdown",
   "id": "f5577211-d65e-4b18-aeab-1bb585663d8f",
   "metadata": {},
   "source": [
    "### **Parte 2: Ajuste del Modelo y Evaluación**\n",
    "1. Ajustar una **regresión lineal** usando `statsmodels`.  \n",
    "2. Interpretar los coeficientes del modelo y el **summary()**:\n",
    "   - ¿Cuál es el valor de **R²**? ¿Qué indica sobre el modelo?  \n",
    "   - ¿Los coeficientes son estadísticamente significativos?  \n",
    "   - ¿Cómo interpretamos el coeficiente de la variable \"horas de estudio\"?  \n",
    "\n",
    "3. Verificar los supuestos de la regresión lineal:\n",
    "   - **Linealidad:** ¿La relación entre las variables parece una línea recta?  \n",
    "   - **Normalidad de los residuos:** Graficar un **histograma de los residuos** y realizar un **test de normalidad**.  \n",
    "   - **Homoscedasticidad:** Generar un **gráfico de residuos vs valores ajustados**.  \n",
    "4. Responder: ¿Es apropiado un modelo de regresión lineal en este caso? ¿Por qué?  \n",
    "\n",
    "\n",
    "---\n"
   ]
  },
  {
   "cell_type": "code",
   "execution_count": null,
   "id": "5bc37e9c-3398-41cd-9c20-a3c625c9ad25",
   "metadata": {},
   "outputs": [],
   "source": []
  },
  {
   "cell_type": "code",
   "execution_count": null,
   "id": "817c6b89-8fbf-4903-81f8-f36685ec08c8",
   "metadata": {},
   "outputs": [],
   "source": []
  },
  {
   "cell_type": "markdown",
   "id": "73204923-56b8-4ac0-8e79-7d45e5eb9d3f",
   "metadata": {},
   "source": [
    "\n",
    "### **Parte 3: Evaluación del Modelo con RMSE**\n",
    "1. Calcular el **RMSE**.  \n",
    "2. Reflexionar:  \n",
    "   - ¿El RMSE es bajo o alto?  \n",
    "   - ¿Qué indica esto sobre la precisión del modelo?  \n",
    "   - ¿Cómo podríamos mejorar la predicción?  \n",
    "\n",
    "---\n"
   ]
  },
  {
   "cell_type": "code",
   "execution_count": null,
   "id": "f552104a-31d9-44ec-a391-c79c4aa060b0",
   "metadata": {},
   "outputs": [],
   "source": []
  },
  {
   "cell_type": "code",
   "execution_count": null,
   "id": "893df898-89d0-4d59-a2a0-8a411f25de74",
   "metadata": {},
   "outputs": [],
   "source": []
  },
  {
   "cell_type": "markdown",
   "id": "d3acaa07-59c9-4915-a0b1-82f02998afd2",
   "metadata": {},
   "source": [
    "### **Parte 4: Introducción de Valores Atípicos**  \n",
    "\n",
    "1. **Modificar el dataset manualmente**, agregando al menos **tres puntos extremos**, por ejemplo:  \n",
    "   - Un estudiante con **50 horas de estudio** pero una calificación de **30**.  \n",
    "   - Un estudiante con **0 horas de estudio** pero una calificación de **95**.  \n",
    "   - Un estudiante con **100 horas de estudio** y una calificación de **10**.  \n",
    "2. **Visualizar nuevamente los datos** con los valores atípicos en un gráfico de dispersión.  \n",
    "\n",
    "\n"
   ]
  },
  {
   "cell_type": "code",
   "execution_count": null,
   "id": "fe9691fa-7a76-4f3b-ae73-53e472696133",
   "metadata": {},
   "outputs": [],
   "source": []
  },
  {
   "cell_type": "code",
   "execution_count": null,
   "id": "533c68fa-dfa4-4c29-9bec-38311d7c43c1",
   "metadata": {},
   "outputs": [],
   "source": []
  },
  {
   "cell_type": "markdown",
   "id": "96e1715a-9988-4865-bf24-b095f73cfe5f",
   "metadata": {},
   "source": [
    "---\n",
    "\n",
    "### **Parte 5: Reevaluación del Modelo**  \n",
    "\n",
    "1. **Volver a ajustar la regresión lineal** con los datos modificados.  \n",
    "2. **Comparar los coeficientes y métricas** antes y después de agregar los valores atípicos:  \n",
    "   - ¿Cómo cambiaron los coeficientes de la regresión?  \n",
    "   - ¿El valor de R² aumentó o disminuyó? ¿Por qué?  \n",
    "   - ¿Cómo cambió el RMSE?  \n",
    "   - ¿Qué efectos observas en la línea de regresión en la gráfica?  \n",
    "3. **Reflexionar**:  \n",
    "   - ¿Cómo afectan los valores atípicos la precisión del modelo?  \n",
    "   - ¿Qué podríamos hacer para mitigar su impacto?  \n",
    "   - ¿Cuándo es recomendable eliminarlos y cuándo es mejor dejarlos en el análisis?  \n"
   ]
  },
  {
   "cell_type": "code",
   "execution_count": null,
   "id": "e3142f54-179b-46c2-aa34-b9c5a5e8dad8",
   "metadata": {},
   "outputs": [],
   "source": []
  },
  {
   "cell_type": "code",
   "execution_count": null,
   "id": "87ac7fc4-fc8c-476a-bd07-7bf077c2ce81",
   "metadata": {},
   "outputs": [],
   "source": []
  },
  {
   "cell_type": "markdown",
   "id": "80c8814e-868b-40ad-92fd-5944f65be6ee",
   "metadata": {},
   "source": [
    "## **Caso 2: Temperatura y Ventas de Helado (Relación No Lineal)**\n",
    "\n",
    "📂 **Dataset:** `Ice_cream_selling_data.csv`  \n",
    "📊 **Relación esperada:** No lineal  \n",
    "\n",
    "### **Parte 1: Exploración de Datos y Supuestos**\n",
    "1. Cargar los datos y visualizar la relación mediante un **gráfico de dispersión**.  \n",
    "2. Evaluar la distribución de las variables usando histogramas y boxplots.\n",
    "3. Responder: ¿Consideras que el modelo lineal es adecuado en este caso?  \n",
    "\n",
    "---\n",
    "\n",
    "\n"
   ]
  },
  {
   "cell_type": "code",
   "execution_count": null,
   "id": "08036659-7152-483a-82a2-80025c145086",
   "metadata": {},
   "outputs": [],
   "source": []
  },
  {
   "cell_type": "code",
   "execution_count": null,
   "id": "7821a5d9-49ab-49e8-9490-06159adf048a",
   "metadata": {},
   "outputs": [],
   "source": []
  },
  {
   "cell_type": "markdown",
   "id": "c1cab0eb-a25e-4399-aa57-3dc2e7c16520",
   "metadata": {},
   "source": [
    "### **Parte 2: Ajuste del Modelo y Evaluación**\n",
    "1. Ajustar una **regresión lineal** usando `statsmodels`.  \n",
    "2. Interpretar los coeficientes del modelo y el **summary()**:\n",
    "   - ¿Cuál es el valor de **R²**? ¿Qué indica sobre el modelo?  \n",
    "   - ¿Los coeficientes son estadísticamente significativos?  \n",
    "   - ¿Cómo interpretamos el coeficiente de la variable \"temperatura\"?\n",
    "\n",
    "3. Verificar los supuestos de la regresión lineal:\n",
    "   - **Linealidad:** ¿La relación entre las variables parece una línea recta?  \n",
    "   - **Normalidad de los residuos:** Graficar un **histograma de los residuos** y realizar un **test de normalidad**.  \n",
    "   - **Homoscedasticidad:** Generar un **gráfico de residuos vs valores ajustados**.  \n",
    "\n",
    "\n",
    "---"
   ]
  },
  {
   "cell_type": "code",
   "execution_count": null,
   "id": "751b410d-be46-47da-9b7a-0e4252e17e9b",
   "metadata": {},
   "outputs": [],
   "source": []
  },
  {
   "cell_type": "code",
   "execution_count": null,
   "id": "1c996214-a16e-4dbc-a4c7-2a46b1a11ea7",
   "metadata": {},
   "outputs": [],
   "source": []
  },
  {
   "cell_type": "markdown",
   "id": "662b91d5-4f9e-4a92-85ea-c65538634623",
   "metadata": {},
   "source": [
    "### **Parte 3: Evaluación del Modelo con RMSE**\n",
    "1. Calcular el **RMSE**.  \n",
    "2. Reflexionar:  \n",
    "   - ¿Que podemos concluir al usar solamente el RMSE como medida de desempeño?  \n",
    "   - ¿Es posible hacer ajustes para mejorar el modelo?  \n",
    "\n",
    "---\n"
   ]
  },
  {
   "cell_type": "code",
   "execution_count": null,
   "id": "c88f4e9f-d0b3-45dd-9f4c-d306b80de6d9",
   "metadata": {},
   "outputs": [],
   "source": []
  },
  {
   "cell_type": "code",
   "execution_count": null,
   "id": "57123d37-fa2f-4919-9f0e-fa1536d424b0",
   "metadata": {},
   "outputs": [],
   "source": []
  },
  {
   "cell_type": "markdown",
   "id": "7edefe61-22c7-4270-aa37-88383eb1270b",
   "metadata": {},
   "source": [
    "\n",
    "## **Caso 3: Análisis de Enfermedades Cardíacas (Selección de Variables y Comparación de Modelos)**\n",
    "\n",
    "📂 **Dataset:** `dataset_2190_cholesterol.csv`  \n",
    "📊 **Objetivo:** Identificar variables clave y construir modelos predictivos  \n",
    "\n",
    "### **Parte 1: Identificación de Variables**\n",
    "1. Cargar el dataset y explorar sus columnas.  \n",
    "2. Identificar la **variable objetivo** (num: presencia de enfermedad cardíaca).  \n",
    "3. Calcular la **correlación** de todas las variables con \"num\" y ordenarlas de mayor a menor.  \n",
    "\n",
    "---\n"
   ]
  },
  {
   "cell_type": "code",
   "execution_count": null,
   "id": "87153b13-66fe-42ad-bafb-00387bc43f97",
   "metadata": {},
   "outputs": [],
   "source": []
  },
  {
   "cell_type": "code",
   "execution_count": null,
   "id": "241d9456-e34a-459d-a64f-fb7c07324b65",
   "metadata": {},
   "outputs": [],
   "source": []
  },
  {
   "cell_type": "markdown",
   "id": "acf0a408-58e0-4f18-8970-c4df3f650467",
   "metadata": {},
   "source": [
    "### **Parte 2: Selección de Variables y Modelado**\n",
    "1. Seleccionar las **tres variables con mayor correlación** con \"num\".  \n",
    "2. Ajustar **tres modelos de regresión lineal** (uno para cada variable independiente).  \n",
    "3. Evaluar los coeficientes y métricas del summary():\n",
    "   - **R² ajustado**  \n",
    "   - **Significancia de los coeficientes**  \n",
    "     \n"
   ]
  },
  {
   "cell_type": "code",
   "execution_count": null,
   "id": "6b6448d5-672d-4795-a348-3ac800b60b1f",
   "metadata": {},
   "outputs": [],
   "source": []
  },
  {
   "cell_type": "code",
   "execution_count": null,
   "id": "2fa03c7a-79bd-4299-98bd-466dbb07ffe3",
   "metadata": {},
   "outputs": [],
   "source": []
  },
  {
   "cell_type": "markdown",
   "id": "07941a42-f6dd-48fa-b290-813bee547bec",
   "metadata": {},
   "source": [
    "---\n",
    "\n",
    "### **Parte 3: Comparación y Conclusiones**\n",
    "1. Comparar los modelos en términos de **desempeño predictivo**.  \n",
    "2. Reflexionar:  \n",
    "   - ¿Cuál de las tres variables tiene mayor poder predictivo?  \n",
    "   - ¿Se podría mejorar el modelo combinando variables?  \n",
    "   - ¿Qué conclusiones podemos extraer sobre el colesterol y las enfermedades cardíacas?  \n",
    "\n"
   ]
  },
  {
   "cell_type": "code",
   "execution_count": null,
   "id": "8fe70972-0f03-44c0-b14f-688083634063",
   "metadata": {},
   "outputs": [],
   "source": []
  },
  {
   "cell_type": "markdown",
   "id": "4448ab99-f81d-46f0-9328-ce345afeaca0",
   "metadata": {},
   "source": [
    "\n",
    "---\n",
    "\n",
    "## **Entrega y Discusión**\n",
    "- Los estudiantes discutiran en la ultima parte de la clase sus análisis e interpretación de resultados y conclusiones.  \n",
    "- Se discutirá en clase cómo mejorar los modelos y qué otras técnicas podrían aplicarse.  \n",
    "\n",
    "---"
   ]
  },
  {
   "cell_type": "code",
   "execution_count": null,
   "id": "3876a8f7-89ae-4004-bbcc-651a483ae0f4",
   "metadata": {},
   "outputs": [],
   "source": []
  },
  {
   "cell_type": "code",
   "execution_count": 2,
   "id": "96903d59-cdca-402f-a62f-51221afa5e7c",
   "metadata": {},
   "outputs": [
    {
     "name": "stdout",
     "output_type": "stream",
     "text": [
      "const    5.000000\n",
      "X1       0.775194\n",
      "X2       0.387597\n",
      "X3       0.155039\n",
      "dtype: float64\n"
     ]
    }
   ],
   "source": [
    "import pandas as pd\n",
    "import statsmodels.api as sm\n",
    "# Crear un DataFrame de ejemplo\n",
    "data = {\n",
    "    \"X1\": [10, 20, 30, 40, 50],\n",
    "    \"X2\": [5, 10, 15, 20, 25],\n",
    "    \"X3\": [2, 4, 6, 8, 10],\n",
    "    \"Y\": [15, 25, 35, 45, 55]\n",
    "}\n",
    "df = pd.DataFrame(data)\n",
    "# Definir variables predictoras (X) y la variable objetivo (Y)\n",
    "X = df[[\"X1\", \"X2\", \"X3\"]]  # Variables predictoras\n",
    "Y = df[\"Y\"]  # Variable objetivo\n",
    "|\n"
   ]
  },
  {
   "cell_type": "code",
   "execution_count": null,
   "id": "8e4e585f-ef63-4c48-9272-e3f26d0ad76a",
   "metadata": {},
   "outputs": [],
   "source": []
  },
  {
   "cell_type": "code",
   "execution_count": null,
   "id": "c10738b6-b403-494e-b4eb-5e62ae2afe4b",
   "metadata": {},
   "outputs": [],
   "source": []
  }
 ],
 "metadata": {
  "kernelspec": {
   "display_name": "Python 3 (ipykernel)",
   "language": "python",
   "name": "python3"
  },
  "language_info": {
   "codemirror_mode": {
    "name": "ipython",
    "version": 3
   },
   "file_extension": ".py",
   "mimetype": "text/x-python",
   "name": "python",
   "nbconvert_exporter": "python",
   "pygments_lexer": "ipython3",
   "version": "3.10.14"
  }
 },
 "nbformat": 4,
 "nbformat_minor": 5
}
